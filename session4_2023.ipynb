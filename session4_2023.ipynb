{
 "cells": [
  {
   "attachments": {},
   "cell_type": "markdown",
   "metadata": {},
   "source": [
    "### zip()"
   ]
  },
  {
   "attachments": {},
   "cell_type": "markdown",
   "metadata": {},
   "source": [
    "combines lists, tuples, or strings into tuples according to their series of values\n",
    "-    it will only go on until the length of the shortest iterable"
   ]
  },
  {
   "cell_type": "code",
   "execution_count": 3,
   "metadata": {},
   "outputs": [],
   "source": [
    "a = [\"apple\", \"orange\", \"lemon\"]\n",
    "b = [1,2,3]"
   ]
  },
  {
   "cell_type": "code",
   "execution_count": 4,
   "metadata": {},
   "outputs": [
    {
     "data": {
      "text/plain": [
       "<zip at 0x1119c4440>"
      ]
     },
     "execution_count": 4,
     "metadata": {},
     "output_type": "execute_result"
    }
   ],
   "source": [
    "zip(a,b)"
   ]
  },
  {
   "cell_type": "code",
   "execution_count": 5,
   "metadata": {},
   "outputs": [
    {
     "data": {
      "text/plain": [
       "[('apple', 1), ('orange', 2), ('lemon', 3)]"
      ]
     },
     "execution_count": 5,
     "metadata": {},
     "output_type": "execute_result"
    }
   ],
   "source": [
    "list(zip(a,b))"
   ]
  },
  {
   "cell_type": "code",
   "execution_count": 6,
   "metadata": {},
   "outputs": [],
   "source": [
    "name = [\"mahmud\", \"nese\", \"ozde\"]\n",
    "age = [22,17,23]\n",
    "job = [\"python\", \"student\", \"psychologist\"]"
   ]
  },
  {
   "cell_type": "code",
   "execution_count": 9,
   "metadata": {},
   "outputs": [
    {
     "name": "stdout",
     "output_type": "stream",
     "text": [
      "mahmud    22   python\n",
      "nese      17   student\n",
      "ozde      23   psychologist\n"
     ]
    }
   ],
   "source": [
    "for i,j,k in zip(name, age, job):\n",
    "    print(f\"{i:<10}{j:<5}{k:<5}\")"
   ]
  },
  {
   "cell_type": "code",
   "execution_count": 10,
   "metadata": {},
   "outputs": [
    {
     "name": "stdout",
     "output_type": "stream",
     "text": [
      "[('mahmud', 22, 'python'), ('nese', 17, 'student'), ('ozde', 23, 'psychologist')]\n"
     ]
    }
   ],
   "source": [
    "print(list(zip(name,age,job)))"
   ]
  },
  {
   "cell_type": "code",
   "execution_count": 13,
   "metadata": {},
   "outputs": [
    {
     "data": {
      "text/plain": [
       "[(1, 'mahmud'),\n",
       " (2, 'apaydin'),\n",
       " (3, 'mahmud'),\n",
       " (4, 'apaydin'),\n",
       " (5, 'mahmud'),\n",
       " (6, 'apaydin'),\n",
       " (7, 'mahmud'),\n",
       " (8, 'apaydin'),\n",
       " (9, 'mahmud'),\n",
       " (10, 'apaydin'),\n",
       " (11, 'mahmud'),\n",
       " (12, 'apaydin'),\n",
       " (13, 'mahmud'),\n",
       " (14, 'apaydin'),\n",
       " (15, 'mahmud'),\n",
       " (16, 'apaydin'),\n",
       " (17, 'mahmud'),\n",
       " (18, 'apaydin'),\n",
       " (19, 'mahmud'),\n",
       " (20, 'apaydin'),\n",
       " (21, 'mahmud'),\n",
       " (22, 'apaydin'),\n",
       " (23, 'mahmud'),\n",
       " (24, 'apaydin'),\n",
       " (25, 'mahmud'),\n",
       " (26, 'apaydin'),\n",
       " (27, 'mahmud'),\n",
       " (28, 'apaydin'),\n",
       " (29, 'mahmud'),\n",
       " (30, 'apaydin'),\n",
       " (31, 'mahmud'),\n",
       " (32, 'apaydin'),\n",
       " (33, 'mahmud'),\n",
       " (34, 'apaydin'),\n",
       " (35, 'mahmud'),\n",
       " (36, 'apaydin'),\n",
       " (37, 'mahmud'),\n",
       " (38, 'apaydin'),\n",
       " (39, 'mahmud'),\n",
       " (40, 'apaydin'),\n",
       " (41, 'mahmud'),\n",
       " (42, 'apaydin'),\n",
       " (43, 'mahmud'),\n",
       " (44, 'apaydin'),\n",
       " (45, 'mahmud'),\n",
       " (46, 'apaydin'),\n",
       " (47, 'mahmud'),\n",
       " (48, 'apaydin'),\n",
       " (49, 'mahmud'),\n",
       " (50, 'apaydin'),\n",
       " (51, 'mahmud'),\n",
       " (52, 'apaydin'),\n",
       " (53, 'mahmud'),\n",
       " (54, 'apaydin'),\n",
       " (55, 'mahmud'),\n",
       " (56, 'apaydin'),\n",
       " (57, 'mahmud'),\n",
       " (58, 'apaydin'),\n",
       " (59, 'mahmud'),\n",
       " (60, 'apaydin'),\n",
       " (61, 'mahmud'),\n",
       " (62, 'apaydin'),\n",
       " (63, 'mahmud'),\n",
       " (64, 'apaydin'),\n",
       " (65, 'mahmud'),\n",
       " (66, 'apaydin'),\n",
       " (67, 'mahmud'),\n",
       " (68, 'apaydin'),\n",
       " (69, 'mahmud'),\n",
       " (70, 'apaydin'),\n",
       " (71, 'mahmud'),\n",
       " (72, 'apaydin'),\n",
       " (73, 'mahmud'),\n",
       " (74, 'apaydin'),\n",
       " (75, 'mahmud'),\n",
       " (76, 'apaydin'),\n",
       " (77, 'mahmud'),\n",
       " (78, 'apaydin'),\n",
       " (79, 'mahmud'),\n",
       " (80, 'apaydin'),\n",
       " (81, 'mahmud'),\n",
       " (82, 'apaydin'),\n",
       " (83, 'mahmud'),\n",
       " (84, 'apaydin'),\n",
       " (85, 'mahmud'),\n",
       " (86, 'apaydin'),\n",
       " (87, 'mahmud'),\n",
       " (88, 'apaydin'),\n",
       " (89, 'mahmud'),\n",
       " (90, 'apaydin'),\n",
       " (91, 'mahmud'),\n",
       " (92, 'apaydin'),\n",
       " (93, 'mahmud'),\n",
       " (94, 'apaydin'),\n",
       " (95, 'mahmud'),\n",
       " (96, 'apaydin'),\n",
       " (97, 'mahmud'),\n",
       " (98, 'apaydin'),\n",
       " (99, 'mahmud'),\n",
       " (100, 'apaydin')]"
      ]
     },
     "execution_count": 13,
     "metadata": {},
     "output_type": "execute_result"
    }
   ],
   "source": [
    "# in this example we have a list of 100 contents and we want to number them from 1-100 this is how we would do it\n",
    "\n",
    "\n",
    "list1 = [\"mahmud\",\"apaydin\"] * 50\n",
    "\n",
    "list(zip(range(1,101), list1))"
   ]
  },
  {
   "attachments": {},
   "cell_type": "markdown",
   "metadata": {},
   "source": [
    "### enumerate()"
   ]
  },
  {
   "attachments": {},
   "cell_type": "markdown",
   "metadata": {},
   "source": [
    "numbers the list for you, default starts at 0"
   ]
  },
  {
   "cell_type": "code",
   "execution_count": 14,
   "metadata": {},
   "outputs": [
    {
     "data": {
      "text/plain": [
       "['apple', 'orange', 'lemon']"
      ]
     },
     "execution_count": 14,
     "metadata": {},
     "output_type": "execute_result"
    }
   ],
   "source": [
    "a"
   ]
  },
  {
   "cell_type": "code",
   "execution_count": 15,
   "metadata": {},
   "outputs": [
    {
     "data": {
      "text/plain": [
       "[1, 2, 3]"
      ]
     },
     "execution_count": 15,
     "metadata": {},
     "output_type": "execute_result"
    }
   ],
   "source": [
    "b"
   ]
  },
  {
   "cell_type": "code",
   "execution_count": 16,
   "metadata": {},
   "outputs": [
    {
     "data": {
      "text/plain": [
       "[(0, 'apple'), (1, 'orange'), (2, 'lemon')]"
      ]
     },
     "execution_count": 16,
     "metadata": {},
     "output_type": "execute_result"
    }
   ],
   "source": [
    "list(enumerate(a))"
   ]
  },
  {
   "cell_type": "code",
   "execution_count": 18,
   "metadata": {},
   "outputs": [
    {
     "data": {
      "text/plain": [
       "[(1, 'mahmud'),\n",
       " (2, 'apaydin'),\n",
       " (3, 'mahmud'),\n",
       " (4, 'apaydin'),\n",
       " (5, 'mahmud'),\n",
       " (6, 'apaydin'),\n",
       " (7, 'mahmud'),\n",
       " (8, 'apaydin'),\n",
       " (9, 'mahmud'),\n",
       " (10, 'apaydin'),\n",
       " (11, 'mahmud'),\n",
       " (12, 'apaydin'),\n",
       " (13, 'mahmud'),\n",
       " (14, 'apaydin'),\n",
       " (15, 'mahmud'),\n",
       " (16, 'apaydin'),\n",
       " (17, 'mahmud'),\n",
       " (18, 'apaydin'),\n",
       " (19, 'mahmud'),\n",
       " (20, 'apaydin'),\n",
       " (21, 'mahmud'),\n",
       " (22, 'apaydin'),\n",
       " (23, 'mahmud'),\n",
       " (24, 'apaydin'),\n",
       " (25, 'mahmud'),\n",
       " (26, 'apaydin'),\n",
       " (27, 'mahmud'),\n",
       " (28, 'apaydin'),\n",
       " (29, 'mahmud'),\n",
       " (30, 'apaydin'),\n",
       " (31, 'mahmud'),\n",
       " (32, 'apaydin'),\n",
       " (33, 'mahmud'),\n",
       " (34, 'apaydin'),\n",
       " (35, 'mahmud'),\n",
       " (36, 'apaydin'),\n",
       " (37, 'mahmud'),\n",
       " (38, 'apaydin'),\n",
       " (39, 'mahmud'),\n",
       " (40, 'apaydin'),\n",
       " (41, 'mahmud'),\n",
       " (42, 'apaydin'),\n",
       " (43, 'mahmud'),\n",
       " (44, 'apaydin'),\n",
       " (45, 'mahmud'),\n",
       " (46, 'apaydin'),\n",
       " (47, 'mahmud'),\n",
       " (48, 'apaydin'),\n",
       " (49, 'mahmud'),\n",
       " (50, 'apaydin'),\n",
       " (51, 'mahmud'),\n",
       " (52, 'apaydin'),\n",
       " (53, 'mahmud'),\n",
       " (54, 'apaydin'),\n",
       " (55, 'mahmud'),\n",
       " (56, 'apaydin'),\n",
       " (57, 'mahmud'),\n",
       " (58, 'apaydin'),\n",
       " (59, 'mahmud'),\n",
       " (60, 'apaydin'),\n",
       " (61, 'mahmud'),\n",
       " (62, 'apaydin'),\n",
       " (63, 'mahmud'),\n",
       " (64, 'apaydin'),\n",
       " (65, 'mahmud'),\n",
       " (66, 'apaydin'),\n",
       " (67, 'mahmud'),\n",
       " (68, 'apaydin'),\n",
       " (69, 'mahmud'),\n",
       " (70, 'apaydin'),\n",
       " (71, 'mahmud'),\n",
       " (72, 'apaydin'),\n",
       " (73, 'mahmud'),\n",
       " (74, 'apaydin'),\n",
       " (75, 'mahmud'),\n",
       " (76, 'apaydin'),\n",
       " (77, 'mahmud'),\n",
       " (78, 'apaydin'),\n",
       " (79, 'mahmud'),\n",
       " (80, 'apaydin'),\n",
       " (81, 'mahmud'),\n",
       " (82, 'apaydin'),\n",
       " (83, 'mahmud'),\n",
       " (84, 'apaydin'),\n",
       " (85, 'mahmud'),\n",
       " (86, 'apaydin'),\n",
       " (87, 'mahmud'),\n",
       " (88, 'apaydin'),\n",
       " (89, 'mahmud'),\n",
       " (90, 'apaydin'),\n",
       " (91, 'mahmud'),\n",
       " (92, 'apaydin'),\n",
       " (93, 'mahmud'),\n",
       " (94, 'apaydin'),\n",
       " (95, 'mahmud'),\n",
       " (96, 'apaydin'),\n",
       " (97, 'mahmud'),\n",
       " (98, 'apaydin'),\n",
       " (99, 'mahmud'),\n",
       " (100, 'apaydin')]"
      ]
     },
     "execution_count": 18,
     "metadata": {},
     "output_type": "execute_result"
    }
   ],
   "source": [
    "list(enumerate(list1, 1))"
   ]
  },
  {
   "cell_type": "code",
   "execution_count": 20,
   "metadata": {},
   "outputs": [
    {
     "data": {
      "text/plain": [
       "{'apple': 1, 'orange': 2, 'lemon': 3}"
      ]
     },
     "execution_count": 20,
     "metadata": {},
     "output_type": "execute_result"
    }
   ],
   "source": [
    "dict(zip(a,b))"
   ]
  },
  {
   "cell_type": "code",
   "execution_count": 23,
   "metadata": {},
   "outputs": [
    {
     "name": "stdout",
     "output_type": "stream",
     "text": [
      "\n",
      "2\n",
      "3\n",
      "4\n",
      "5\n",
      "6\n"
     ]
    }
   ],
   "source": [
    "num = [2,4,5,6,9,10]\n",
    "x = 2\n",
    "for i in num:\n",
    "    if i == x:\n",
    "        print(\"\")\n",
    "    else:\n",
    "        print(x)\n",
    "        x += 1\n",
    "    \n"
   ]
  },
  {
   "attachments": {},
   "cell_type": "markdown",
   "metadata": {},
   "source": [
    "Problem 1: write a code that finds the numbers not in the list below and prints them"
   ]
  },
  {
   "attachments": {},
   "cell_type": "markdown",
   "metadata": {},
   "source": [
    "solution 1:"
   ]
  },
  {
   "cell_type": "code",
   "execution_count": 24,
   "metadata": {},
   "outputs": [],
   "source": [
    "num = [48,10,11,21,36,5,6,52,28,29,53,54,45,19,20,47,55,39,41,7,9,17,26,27,42,22,37,51,46,18,44,30,34,13,15,35,33,16,50,24]\n"
   ]
  },
  {
   "cell_type": "code",
   "execution_count": 26,
   "metadata": {},
   "outputs": [
    {
     "name": "stdout",
     "output_type": "stream",
     "text": [
      "[8, 12, 14, 23, 25, 31, 32, 38, 40, 43, 49]\n"
     ]
    }
   ],
   "source": [
    "empty_list = []\n",
    "\n",
    "for i in range(min(num), max(num)):\n",
    "    if i not in num:\n",
    "        empty_list.append(i)\n",
    "print(empty_list)"
   ]
  },
  {
   "attachments": {},
   "cell_type": "markdown",
   "metadata": {},
   "source": [
    "solution 2:"
   ]
  },
  {
   "cell_type": "code",
   "execution_count": 27,
   "metadata": {},
   "outputs": [
    {
     "name": "stdout",
     "output_type": "stream",
     "text": [
      "[8, 12, 14, 23, 25, 31, 32, 38, 40, 43, 49]\n"
     ]
    }
   ],
   "source": [
    "empty_list = []\n",
    "\n",
    "for i in range(min(num), max(num)):\n",
    "    if i in num:\n",
    "        continue\n",
    "    empty_list.append(i)\n",
    "print(empty_list)"
   ]
  },
  {
   "attachments": {},
   "cell_type": "markdown",
   "metadata": {},
   "source": [
    "solution 3:"
   ]
  },
  {
   "cell_type": "code",
   "execution_count": 28,
   "metadata": {},
   "outputs": [
    {
     "data": {
      "text/plain": [
       "{8, 12, 14, 23, 25, 31, 32, 38, 40, 43, 49}"
      ]
     },
     "execution_count": 28,
     "metadata": {},
     "output_type": "execute_result"
    }
   ],
   "source": [
    "full_list = set(range(min(num),max(num)+1))\n",
    "num_set = set(num)\n",
    "\n",
    "full_list - num_set\n",
    "\n"
   ]
  },
  {
   "attachments": {},
   "cell_type": "markdown",
   "metadata": {},
   "source": [
    "problem 2: write a code that prints the odd numbers as is and the squares of even numbers from the lsit"
   ]
  },
  {
   "cell_type": "code",
   "execution_count": 29,
   "metadata": {},
   "outputs": [
    {
     "name": "stdout",
     "output_type": "stream",
     "text": [
      "[1, 4, 3, 16, 5, 36]\n"
     ]
    }
   ],
   "source": [
    "list_2 = [1,2,3,4,5,6]\n",
    "empty = []\n",
    "\n",
    "for i in list_2:\n",
    "    if i % 2 != 0:\n",
    "        empty.append(i)\n",
    "    elif i % 2 == 0:\n",
    "        empty.append(i ** 2)\n",
    "print(empty)"
   ]
  },
  {
   "attachments": {},
   "cell_type": "markdown",
   "metadata": {},
   "source": [
    "## List Comprehension"
   ]
  },
  {
   "attachments": {},
   "cell_type": "markdown",
   "metadata": {},
   "source": [
    "The easiest way to shorten for loops \n"
   ]
  },
  {
   "cell_type": "code",
   "execution_count": 31,
   "metadata": {},
   "outputs": [
    {
     "name": "stdout",
     "output_type": "stream",
     "text": [
      "[1, 4, 9, 16, 25, 36]\n"
     ]
    }
   ],
   "source": [
    "# this is pretty long if you think about it\n",
    "\n",
    "\n",
    "list_2\n",
    "empty = []\n",
    "for i in list_2:\n",
    "    empty.append(i ** 2)\n",
    "\n",
    "print(empty)"
   ]
  },
  {
   "cell_type": "code",
   "execution_count": 33,
   "metadata": {},
   "outputs": [
    {
     "data": {
      "text/plain": [
       "[1, 4, 9, 16, 25, 36]"
      ]
     },
     "execution_count": 33,
     "metadata": {},
     "output_type": "execute_result"
    }
   ],
   "source": [
    "# an easier way to do this is with list comprehension\n",
    "# you write which formula you want to follow on the very left\n",
    "\n",
    "[ i ** 2 for i in list_2]"
   ]
  },
  {
   "cell_type": "code",
   "execution_count": 36,
   "metadata": {},
   "outputs": [
    {
     "name": "stdout",
     "output_type": "stream",
     "text": [
      "['ford', 'fiat', 'bmw']\n"
     ]
    }
   ],
   "source": [
    "# lets say we want to list these without the unnecessary strings *$?!\n",
    "# we can use a for loop and make it long\n",
    "\n",
    "\n",
    "a = [\"ford*\", \"fiat?$\", \"bmw!\"]\n",
    "empty = []\n",
    "for i in a:\n",
    "    empty.append(i.replace(\"*\",\"\").replace(\"$\",\"\").replace(\"!\",\"\").replace(\"?\",\"\"))\n",
    "print(empty)"
   ]
  },
  {
   "cell_type": "code",
   "execution_count": 37,
   "metadata": {},
   "outputs": [
    {
     "data": {
      "text/plain": [
       "['ford', 'fiat', 'bmw']"
      ]
     },
     "execution_count": 37,
     "metadata": {},
     "output_type": "execute_result"
    }
   ],
   "source": [
    "# we can also do the same thing in one line using list comprehension\n",
    "[i.replace(\"*\",\"\").replace(\"$\",\"\").replace(\"!\",\"\").replace(\"?\",\"\") for i in a]"
   ]
  },
  {
   "attachments": {},
   "cell_type": "markdown",
   "metadata": {},
   "source": [
    "lets do the same with a previous example that only prints the squares of odd numbers in a list"
   ]
  },
  {
   "cell_type": "code",
   "execution_count": 40,
   "metadata": {},
   "outputs": [
    {
     "name": "stdout",
     "output_type": "stream",
     "text": [
      "[1, 9, 25]\n"
     ]
    }
   ],
   "source": [
    "list_2 = [1,2,3,4,5,6]\n",
    "empty = []\n",
    "\n",
    "for i in list_2:\n",
    "    if i % 2:\n",
    "        empty.append(i ** 2)\n",
    " \n",
    "print(empty)"
   ]
  },
  {
   "cell_type": "code",
   "execution_count": 42,
   "metadata": {},
   "outputs": [
    {
     "data": {
      "text/plain": [
       "[1, 9, 25]"
      ]
     },
     "execution_count": 42,
     "metadata": {},
     "output_type": "execute_result"
    }
   ],
   "source": [
    "# if comes after for if it is used alone\n",
    "\n",
    "[i ** 2 for i in list_2 if i % 2]"
   ]
  },
  {
   "cell_type": "code",
   "execution_count": 44,
   "metadata": {},
   "outputs": [
    {
     "name": "stdout",
     "output_type": "stream",
     "text": [
      "[1, 4, 3, 16, 5, 36]\n"
     ]
    }
   ],
   "source": [
    "list_2 = [1,2,3,4,5,6]\n",
    "empty = []\n",
    "\n",
    "for i in list_2:\n",
    "    if i % 2 != 0:\n",
    "        empty.append(i)\n",
    "    elif i % 2 == 0:\n",
    "        empty.append(i ** 2)\n",
    "print(empty)"
   ]
  },
  {
   "cell_type": "code",
   "execution_count": 43,
   "metadata": {},
   "outputs": [
    {
     "data": {
      "text/plain": [
       "[1, 4, 3, 16, 5, 36]"
      ]
     },
     "execution_count": 43,
     "metadata": {},
     "output_type": "execute_result"
    }
   ],
   "source": [
    "# now if we want to use both if and else then the makeup changes \n",
    "# first you push the for loop all the way to the right\n",
    "[ i if i % 2 == 1 else i ** 2         for i in list_2]"
   ]
  },
  {
   "attachments": {},
   "cell_type": "markdown",
   "metadata": {},
   "source": [
    "### **nested** ***loops***"
   ]
  },
  {
   "attachments": {},
   "cell_type": "markdown",
   "metadata": {},
   "source": [
    "for loops inside for loops it will always go in order\n",
    "-   if a loop inside a for loop is finished, it will return back to the loop above it, until it is done"
   ]
  },
  {
   "cell_type": "code",
   "execution_count": 45,
   "metadata": {},
   "outputs": [
    {
     "name": "stdout",
     "output_type": "stream",
     "text": [
      "1 x 1 = 1\n",
      "1 x 2 = 2\n",
      "1 x 3 = 3\n",
      "1 x 4 = 4\n",
      "1 x 5 = 5\n",
      "1 x 6 = 6\n",
      "1 x 7 = 7\n",
      "1 x 8 = 8\n",
      "1 x 9 = 9\n",
      "1 x 10 = 10\n"
     ]
    }
   ],
   "source": [
    "for i in range(1,2):\n",
    "    for j in range(1,11):\n",
    "        print(f\"{i} x {j} = {i * j}\")"
   ]
  },
  {
   "cell_type": "code",
   "execution_count": 46,
   "metadata": {},
   "outputs": [
    {
     "name": "stdout",
     "output_type": "stream",
     "text": [
      "1 x 1 = 1\n",
      "1 x 2 = 2\n",
      "1 x 3 = 3\n",
      "1 x 4 = 4\n",
      "1 x 5 = 5\n",
      "1 x 6 = 6\n",
      "1 x 7 = 7\n",
      "1 x 8 = 8\n",
      "1 x 9 = 9\n",
      "1 x 10 = 10\n",
      "___________\n",
      "2 x 1 = 2\n",
      "2 x 2 = 4\n",
      "2 x 3 = 6\n",
      "2 x 4 = 8\n",
      "2 x 5 = 10\n",
      "2 x 6 = 12\n",
      "2 x 7 = 14\n",
      "2 x 8 = 16\n",
      "2 x 9 = 18\n",
      "2 x 10 = 20\n",
      "___________\n",
      "3 x 1 = 3\n",
      "3 x 2 = 6\n",
      "3 x 3 = 9\n",
      "3 x 4 = 12\n",
      "3 x 5 = 15\n",
      "3 x 6 = 18\n",
      "3 x 7 = 21\n",
      "3 x 8 = 24\n",
      "3 x 9 = 27\n",
      "3 x 10 = 30\n",
      "___________\n",
      "4 x 1 = 4\n",
      "4 x 2 = 8\n",
      "4 x 3 = 12\n",
      "4 x 4 = 16\n",
      "4 x 5 = 20\n",
      "4 x 6 = 24\n",
      "4 x 7 = 28\n",
      "4 x 8 = 32\n",
      "4 x 9 = 36\n",
      "4 x 10 = 40\n",
      "___________\n",
      "5 x 1 = 5\n",
      "5 x 2 = 10\n",
      "5 x 3 = 15\n",
      "5 x 4 = 20\n",
      "5 x 5 = 25\n",
      "5 x 6 = 30\n",
      "5 x 7 = 35\n",
      "5 x 8 = 40\n",
      "5 x 9 = 45\n",
      "5 x 10 = 50\n",
      "___________\n"
     ]
    }
   ],
   "source": [
    "for i in range(1,6):\n",
    "    for j in range(1,11):\n",
    "        print(f\"{i} x {j} = {i * j}\")\n",
    "    print(\"___________\")"
   ]
  },
  {
   "attachments": {},
   "cell_type": "markdown",
   "metadata": {},
   "source": [
    "### problem 1:"
   ]
  },
  {
   "attachments": {},
   "cell_type": "markdown",
   "metadata": {},
   "source": [
    "write a code that determines if an inputted number is an armstrong number"
   ]
  },
  {
   "cell_type": "code",
   "execution_count": 49,
   "metadata": {},
   "outputs": [
    {
     "name": "stdout",
     "output_type": "stream",
     "text": [
      "Armstrong number is a number that is equal to the sum of cubes of its digits\n",
      "45 is not an Armstrong number\n"
     ]
    }
   ],
   "source": [
    "print(\"Armstrong number is a number that is equal to the sum of cubes of its digits\")\n",
    "\n",
    "num = input(\"Please Enter a number you wish to find out if it is an armstorng number or not\")\n",
    "\n",
    "toplam = 0\n",
    "\n",
    "len_ = len(num)\n",
    "\n",
    "for i in num:\n",
    "    toplam += int(i) ** len_\n",
    "\n",
    "if toplam == int(num):\n",
    "    print(f\"{num} is an Armstrong number\")\n",
    "else:\n",
    "    print(f\"{num} is not an Armstrong number\")\n"
   ]
  },
  {
   "cell_type": "code",
   "execution_count": 53,
   "metadata": {},
   "outputs": [
    {
     "name": "stdout",
     "output_type": "stream",
     "text": [
      "1\n",
      "2\n",
      "3\n",
      "4\n",
      "5\n",
      "6\n",
      "7\n",
      "8\n",
      "9\n",
      "153\n",
      "370\n",
      "371\n",
      "407\n",
      "1634\n",
      "8208\n",
      "9474\n"
     ]
    }
   ],
   "source": [
    "def is_armstrong_number(num):\n",
    "    # Convert number to string to count the digits\n",
    "    num_str = str(num)\n",
    "    num_digits = len(num_str)\n",
    "    \n",
    "    # Calculate the sum of each digit raised to the power of the number of digits\n",
    "    armstrong_sum = sum(int(digit) ** num_digits for digit in num_str)\n",
    "    \n",
    "    # Check if the number is an Armstrong number\n",
    "    return num == armstrong_sum\n",
    "\n",
    "# Iterate over numbers from 1 to 10000 and print Armstrong numbers\n",
    "for number in range(1, 10001):\n",
    "    if is_armstrong_number(number):\n",
    "        print(number)\n"
   ]
  },
  {
   "cell_type": "code",
   "execution_count": null,
   "metadata": {},
   "outputs": [],
   "source": []
  }
 ],
 "metadata": {
  "kernelspec": {
   "display_name": "Python 3",
   "language": "python",
   "name": "python3"
  },
  "language_info": {
   "codemirror_mode": {
    "name": "ipython",
    "version": 3
   },
   "file_extension": ".py",
   "mimetype": "text/x-python",
   "name": "python",
   "nbconvert_exporter": "python",
   "pygments_lexer": "ipython3",
   "version": "3.11.4"
  },
  "orig_nbformat": 4
 },
 "nbformat": 4,
 "nbformat_minor": 2
}
